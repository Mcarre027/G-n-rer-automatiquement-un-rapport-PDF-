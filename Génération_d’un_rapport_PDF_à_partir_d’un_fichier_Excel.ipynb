{
  "nbformat": 4,
  "nbformat_minor": 0,
  "metadata": {
    "colab": {
      "provenance": [],
      "authorship_tag": "ABX9TyP28O4wFHq/ttZgFngFmbnC",
      "include_colab_link": true
    },
    "kernelspec": {
      "name": "python3",
      "display_name": "Python 3"
    },
    "language_info": {
      "name": "python"
    }
  },
  "cells": [
    {
      "cell_type": "markdown",
      "metadata": {
        "id": "view-in-github",
        "colab_type": "text"
      },
      "source": [
        "<a href=\"https://colab.research.google.com/github/Mcarre027/G-n-rer-automatiquement-un-rapport-PDF-/blob/main/G%C3%A9n%C3%A9ration_d%E2%80%99un_rapport_PDF_%C3%A0_partir_d%E2%80%99un_fichier_Excel.ipynb\" target=\"_parent\"><img src=\"https://colab.research.google.com/assets/colab-badge.svg\" alt=\"Open In Colab\"/></a>"
      ]
    },
    {
      "cell_type": "code",
      "source": [
        "import pandas as pd\n",
        "from fpdf import FPDF\n",
        "\n",
        "# 1. Charger le fichier Excel\n",
        "fichier_excel = \"rapport_mensuel.xlsx\"\n",
        "df = pd.read_excel(fichier_excel)\n",
        "\n",
        "# 2. Création de quelques indicateurs simples (exemple)\n",
        "nb_lignes = len(df)\n",
        "colonnes = list(df.columns)\n",
        "premiere_ligne = df.iloc[0].to_dict()\n",
        "\n",
        "# 3. Création du PDF\n",
        "pdf = FPDF()\n",
        "pdf.add_page()\n",
        "pdf.set_font(\"Arial\", size=12)\n",
        "\n",
        "# Titre\n",
        "pdf.set_font(\"Arial\", 'B', 14)\n",
        "pdf.cell(200, 10, txt=\"📊 Rapport Automatique\", ln=True, align='C')\n",
        "\n",
        "pdf.ln(10)  # saut de ligne\n",
        "\n",
        "# Contenu\n",
        "pdf.set_font(\"Arial\", size=12)\n",
        "pdf.cell(200, 10, txt=f\"Nombre de lignes : {nb_lignes}\", ln=True)\n",
        "pdf.cell(200, 10, txt=f\"Colonnes présentes : {', '.join(colonnes)}\", ln=True)\n",
        "pdf.ln(5)\n",
        "\n",
        "pdf.cell(200, 10, txt=\"Exemple première ligne :\", ln=True)\n",
        "for k, v in premiere_ligne.items():\n",
        "    pdf.cell(200, 10, txt=f\"{k} : {v}\", ln=True)\n",
        "\n",
        "# 4. Export du PDF\n",
        "pdf.output(\"rapport_auto.pdf\")\n",
        "print(\"✅ Rapport PDF généré avec succès !\")\n"
      ],
      "metadata": {
        "id": "LxRUYLt1r2Ao"
      },
      "execution_count": null,
      "outputs": []
    }
  ]
}